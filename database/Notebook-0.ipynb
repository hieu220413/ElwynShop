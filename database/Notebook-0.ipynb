{
    "metadata": {
        "kernelspec": {
            "name": "SQL",
            "display_name": "SQL",
            "language": "sql"
        },
        "language_info": {
            "name": "sql",
            "version": ""
        }
    },
    "nbformat_minor": 2,
    "nbformat": 4,
    "cells": [
        {
            "cell_type": "code",
            "source": [
                "CREATE DATABASE Elwyn_Shop;\n",
                "\n",
                " Drop database Elwyn_Shop\n",
                "-- SELECT * FROM Admin\n",
                "-- SELECT * FROM Users\n",
                "-- SELECT * FROM Support\n",
                "-- SELECT * FROM Category\n",
                "-- SELECT * FROM Product\n",
                "-- SELECT * FROM Order_product\n",
                "-- SELECT * FROM Orders\n",
                "\n",
                "CREATE TABLE Admin (\n",
                "    admin_ID INT PRIMARY KEY,\n",
                "    username VARCHAR(30),\n",
                "    password VARCHAR(50),\n",
                "    name VARCHAR(100),\n",
                "    email VARCHAR(100)\n",
                ")\n",
                "\n",
                "CREATE TABLE Users (\n",
                "    user_ID INT PRIMARY KEY,\n",
                "    username VARCHAR(30),\n",
                "    password VARCHAR(50),\n",
                "    phone VARCHAR(20),\n",
                "    name VARCHAR(100),\n",
                "    email VARCHAR(100)\n",
                ")\n",
                "\n",
                "CREATE TABLE Support (\n",
                "    support_ID INT PRIMARY KEY,\n",
                "    admin_ID INT FOREIGN KEY REFERENCES Admin(admin_ID),\n",
                "    user_ID INT FOREIGN KEY REFERENCES Users(user_ID),\n",
                "    details VARCHAR(300),\n",
                "    dates DATE\n",
                ")\n",
                "\n",
                "CREATE TABLE Category (\n",
                "    category_ID INT PRIMARY KEY ,\n",
                "    name VARCHAR(100)\n",
                ") \n",
                "\n",
                "CREATE TABLE Product (\n",
                "    product_ID INT PRIMARY KEY ,\n",
                "    category_ID INT FOREIGN KEY REFERENCES Category(category_ID),\n",
                "    gender VARCHAR(50),\n",
                "    price INT,\n",
                "    short_details VARCHAR(100),\n",
                "    long_details VARCHAR(500),\n",
                "    images_path VARCHAR(500),\n",
                "    publish_date DATE,\n",
                "    quantity INT,\n",
                "    name VARCHAR(100) \n",
                ")\n",
                "\n",
                "CREATE TABLE Orders (\n",
                "    order_ID INT PRIMARY KEY,\n",
                "    user_ID INT FOREIGN KEY REFERENCES Users(user_ID),\n",
                "    date DATE,\n",
                "    total_amount INT,\n",
                "    payment_method VARCHAR(100)\n",
                ")\n",
                "\n",
                "CREATE TABLE Order_product (\n",
                "    order_ID INT FOREIGN KEY REFERENCES Orders(order_ID),\n",
                "    product_ID INT FOREIGN KEY REFERENCES Product(product_ID)\n",
                ")\n",
                "\n",
                "\n",
                "--Danh cho Women\n",
                "insert into Product(product_ID,category_ID,gender,price,short_details,long_details,images_path,publish_date,quantity,name)\n",
                "values \n",
                "\t(1,6,'female',100,'','','view\\images\\Women\\Croptop\\Croptop1.jpg','03/03/2022',50,'Croptop_1'),\n",
                "\t(2,6,'female',250,'','','view\\images\\Women\\Croptop\\Croptop2.jpg','03/03/2022',50,'Croptop_2'),\n",
                "\t(3,6,'female',300,'','','view\\images\\Women\\Croptop\\Croptop3tim.jpg','03/03/2022',50,'Croptop_3tim'),\n",
                "\t(4,6,'female',400,'','','view\\images\\Women\\Croptop\\Croptop3vang.jpg','03/03/2022',50,'Croptop_3vang'),\n",
                "\t(5,6,'female',100,'','','view\\images\\Women\\Croptop\\Croptop3xanhlam.jpg','03/03/2022',50,'Croptop_3xanhla'),\n",
                "\t(6,5,'female',150,'','','view\\images\\Women\\Hoodies\\hoodie1_be.jpg','03/03/2022',50,'Hoodie_1_be'),\n",
                "\t(7,5,'female',120,'','','view\\images\\Women\\Hoodies\\hoodie1_den.jpg','03/03/2022',50,'Hoodie_1_den'),\n",
                "\t(8,5,'female',110,'','','view\\images\\Women\\Hoodies\\hoodie1_xam.jpg','03/03/2022',50,'Hoodie_1_xam'),\n",
                "\t(9,5,'female',600,'','','view\\images\\Women\\Hoodies\\hoodie2.jpg','03/03/2022',50,'Hoodie_2'),\n",
                "\t(10,5,'female',80,'','','view\\images\\Women\\Hoodies\\hoodie3.jpg','03/03/2022',50,'Hoodie_3'),\n",
                "\t(11,4,'female',100,'','','view\\images\\Women\\Jacket\\jacket1.jpg','03/03/2022',50,'Jacket_1'),\n",
                "\t(12,4,'female',100,'','','view\\images\\Women\\Jacket\\jacket2.jpg','03/03/2022',50,'Jacket_2'),\n",
                "\t(13,4,'female',100,'','','view\\images\\Women\\Jacket\\jacket3.jpg','03/03/2022',50,'Jacket_3'),\n",
                "\t(14,1,'female',100,'','','view\\images\\Women\\Shirt\\shirt1_trang.jpg','03/03/2022',50,'Shirt_1_trang'),\n",
                "\t(15,1,'female',100,'','','view\\images\\Women\\Shirt\\shirt1_xanh.jpg','03/03/2022',50,'Shirt_1_xanh'),\n",
                "\t(16,1,'female',100,'','','view\\images\\Women\\Shirt\\shirt2_tim.jpg','03/03/2022',50,'Shirt_2_tim'),\n",
                "\t(17,1,'female',100,'','','view\\images\\Women\\Shirt\\shirt2_trang.jpg','03/03/2022',50,'Shirt_2_trang');\n",
                "\t\n",
                "\n",
                "--Danh cho Men\n",
                "insert into Product(product_ID,category_ID,gender,price,short_details,long_details,images_path,publish_date,quantity,name)\n",
                "values \n",
                "\t(18,5,'male',100,'','','view\\images\\Men\\Hoodie\\hoodie_nam_1.jpg','03/03/2022',50,'Hoodie_nam_1'),\n",
                "\t(19,5,'male',100,'','','view\\images\\Men\\Hoodie\\hoodie_nam_2.jpg','03/03/2022',50,'Hoodie_nam_2'),\n",
                "\t(20,5,'male',100,'','','view\\images\\Men\\Hoodie\\hoodie_nam_3.jpg','03/03/2022',50,'Hoodie_nam_3'),\n",
                "\t(21,4,'male',100,'','','view\\images\\Men\\Jacket\\jacket_nam_1.jpg','03/03/2022',50,'jacket_nam_1'),\n",
                "\t(22,4,'male',100,'','','view\\images\\Men\\Jacket\\jacket_nam_2.jpg','03/03/2022',50,'jacket_nam_2'),\n",
                "\t(23,4,'male',100,'','','view\\images\\Men\\Jacket\\jacket_nam_3.jpg','03/03/2022',50,'jacket_nam_3'),\n",
                "\t(24,4,'male',100,'','','view\\images\\Men\\Jacket\\jacket_nam_4.jpg','03/03/2022',50,'jacket_nam_4'),\n",
                "\t(25,4,'male',100,'','','view\\images\\Men\\Jacket\\jacket_nam_5.jpg','03/03/2022',50,'jacket_nam_5'),\n",
                "\t(26,1,'male',100,'','','view\\images\\Men\\Shirt\\Shirt_nam_1.jpg','03/03/2022',50,'shirt_nam_1'),\n",
                "\t(27,1,'male',100,'','','view\\images\\Men\\Shirt\\Shirt_nam_2.jpg','03/03/2022',50,'shirt_nam_2'),\n",
                "\t(28,1,'male',100,'','','view\\images\\Men\\Shirt\\Shirt_nam_3.jpg','03/03/2022',50,'shirt_nam_3'),\n",
                "\t(29,1,'male',100,'','','view\\images\\Men\\Shirt\\Shirt_nam_4.jpg','03/03/2022',50,'shirt_nam_4');\n",
                "\n",
                "--Danh cho Kid\n",
                "insert into Product(product_ID,category_ID,gender,price,short_details,long_details,images_path,publish_date,quantity,name)\n",
                "values \n",
                "\t(30,3,'boy',100,'','','view\\images\\Kid\\Boy\\Pant\\Pant_boy_1.jpg','03/03/2022',50,'Pant_boy_1'),\n",
                "\t(31,3,'boy',100,'','','view\\images\\Kid\\Boy\\Pant\\Pant_boy_2.jpg','03/03/2022',50,'Pant_boy_2'),\n",
                "\t(32,3,'boy',100,'','','view\\images\\Kid\\Boy\\Pant\\Pant_boy_3.jpg','03/03/2022',50,'Pant_boy_3'),\n",
                "\t(33,3,'boy',100,'','','view\\images\\Kid\\Boy\\Pant\\Pant_boy_4.jpg','03/03/2022',50,'Pant_boy_4'),\n",
                "\t(34,1,'boy',100,'','','view\\images\\Kid\\Boy\\Shirt\\Shirt_boy_1.jpg','03/03/2022',50,'Shirt_boy_1'),\n",
                "\t(35,1,'boy',100,'','','view\\images\\Kid\\Boy\\Shirt\\Shirt_boy_2.jpg','03/03/2022',50,'Shirt_boy_2'),\n",
                "\t(36,1,'boy',100,'','','view\\images\\Kid\\Boy\\Shirt\\Shirt_boy_3.jpg','03/03/2022',50,'Shirt_boy_3'),\n",
                "\t(37,1,'boy',100,'','','view\\images\\Kid\\Boy\\Shirt\\Shirt_boy_4.jpg','03/03/2022',50,'Shirt_boy_4'),\n",
                "\t(38,1,'boy',100,'','','view\\images\\Kid\\Boy\\Shirt\\Shirt_boy_5.jpg','03/03/2022',50,'Shirt_boy_5'),\n",
                "\t(39,2,'girl',100,'','','view\\images\\Kid\\Girl\\Dress\\Dress_1.jpg','03/03/2022',50,'Dress_1'),\n",
                "\t(40,2,'girl',100,'','','view\\images\\Kid\\Girl\\Dress\\Dress_2.jpg','03/03/2022',50,'Dress_2'),\n",
                "\t(41,2,'girl',100,'','','view\\images\\Kid\\Girl\\Dress\\Dress_3.jpg','03/03/2022',50,'Dress_3'),\n",
                "\t(42,2,'girl',100,'','','view\\images\\Kid\\Girl\\Dress\\Dress_4.jpg','03/03/2022',50,'Dress_4'),\n",
                "\t(43,2,'girl',100,'','','view\\images\\Kid\\Girl\\Dress\\Dress_5.jpg','03/03/2022',50,'Dress_5'),\n",
                "\t(44,2,'girl',100,'','','view\\images\\Kid\\Girl\\Dress\\Dress_6.jpg','03/03/2022',50,'Dress_6'),\n",
                "\t(45,3,'girl',100,'','','view\\images\\Kid\\Girl\\Pant\\Pant_1.jpg','03/03/2022',50,'Pant_1'),\n",
                "\t(46,3,'girl',100,'','','view\\images\\Kid\\Girl\\Pant\\Pant_2.jpg','03/03/2022',50,'Pant_2'),\n",
                "\t(47,3,'girl',100,'','','view\\images\\Kid\\Girl\\Pant\\Pant_3.jpg','03/03/2022',50,'Pant_3'),\n",
                "\t(48,3,'girl',100,'','','view\\images\\Kid\\Girl\\Pant\\Pant_4.jpg','03/03/2022',50,'Pant_4'),\n",
                "\t(49,7,'girl',100,'','','view\\images\\Kid\\Girl\\Pant\\Pant_5_compo.jpg','03/03/2022',50,'Pant_5_compo'),\n",
                "\t(50,7,'girl',100,'','','view\\images\\Kid\\Girl\\Pant\\Pant_6_compo.jpg','03/03/2022',50,'Pant_6_compo');\n",
                "\n",
                "\n",
                "--Category\n",
                "\tinsert into Category (category_ID,name)\n",
                "\tvalues\n",
                "\t\t(1,'shirt'),\n",
                "\t\t(2,'dress'),\n",
                "\t\t(3,'pant'),\n",
                "\t\t(4,'jacket'),\n",
                "\t\t(5,'hoodie'),\n",
                "\t\t(6,'croptop'),\n",
                "\t\t(7,'combo');\n",
                "\n",
                "\n",
                "            -- phần test của Bình, Vui lòng đừng xóa, thank you :))\n",
                "-- Support\n",
                "\tINSERT INTO Support (support_ID, user_ID, details, admin_ID, dates)\n",
                "    VALUES(1, 1, 'GOOD SERVICE', 1, GETDATE())\n",
                "    SELECT * FROM Support\n",
                "    SELECT support_ID, user_ID, details, admin_ID, dates FROM Support\n",
                "\n",
                "-- Admin\n",
                "    INSERT INTO Admin(admin_ID, username, password, name, email)\n",
                "    VALUES (1, 'admin', '1', 'Vien Quoc Binh', 'binhvqse161554@fpt.edu.vn')\n",
                "\n",
                "-- User\n",
                "    INSERT INTO Users(user_ID, username, password, phone, name, email)\n",
                "    VALUES (1, 'user', 2, '0909090909', 'user 1', 'user1@gmail.com')"
            ],
            "metadata": {
                "azdata_cell_guid": "a3a7e2f1-b173-402c-bc5e-664c39b1cd61",
                "tags": []
            },
            "outputs": [],
            "execution_count": null
        },
        {
            "cell_type": "code",
            "source": [
                " \r\n",
                " SELECT s.support_ID, s.user_ID,s.details, s.admin_ID, s.dates, u.username, u.[password], u.email, u.name, u.phone\r\n",
                " FROM Support s\r\n",
                " JOIN Users u ON u.user_ID = s.user_ID"
            ],
            "metadata": {
                "azdata_cell_guid": "9183fba2-2f82-4d02-9a24-ea241a1a0415",
                "tags": []
            },
            "outputs": [
                {
                    "output_type": "display_data",
                    "data": {
                        "text/html": "(1 row affected)"
                    },
                    "metadata": {}
                },
                {
                    "output_type": "display_data",
                    "data": {
                        "text/html": "Total execution time: 00:00:00.003"
                    },
                    "metadata": {}
                },
                {
                    "output_type": "execute_result",
                    "metadata": {},
                    "execution_count": 8,
                    "data": {
                        "application/vnd.dataresource+json": {
                            "schema": {
                                "fields": [
                                    {
                                        "name": "support_ID"
                                    },
                                    {
                                        "name": "user_ID"
                                    },
                                    {
                                        "name": "details"
                                    },
                                    {
                                        "name": "admin_ID"
                                    },
                                    {
                                        "name": "dates"
                                    },
                                    {
                                        "name": "username"
                                    },
                                    {
                                        "name": "password"
                                    },
                                    {
                                        "name": "email"
                                    },
                                    {
                                        "name": "name"
                                    },
                                    {
                                        "name": "phone"
                                    }
                                ]
                            },
                            "data": [
                                {
                                    "0": "1",
                                    "1": "1",
                                    "2": "GOOD SERVICE",
                                    "3": "1",
                                    "4": "2022-03-05",
                                    "5": "user",
                                    "6": "2",
                                    "7": "user1@gmail.com",
                                    "8": "user 1",
                                    "9": "0909090909"
                                }
                            ]
                        },
                        "text/html": [
                            "<table>",
                            "<tr><th>support_ID</th><th>user_ID</th><th>details</th><th>admin_ID</th><th>dates</th><th>username</th><th>password</th><th>email</th><th>name</th><th>phone</th></tr>",
                            "<tr><td>1</td><td>1</td><td>GOOD SERVICE</td><td>1</td><td>2022-03-05</td><td>user</td><td>2</td><td>user1@gmail.com</td><td>user 1</td><td>0909090909</td></tr>",
                            "</table>"
                        ]
                    }
                }
            ],
            "execution_count": 8
        },
        {
            "cell_type": "code",
            "source": [
                "SELECT s.support_ID, s.user_ID, s.details, s.admin_ID, s.dates, u.username, u.[password], u.email, u.name, u.phone\r\n",
                "FROM Support s\r\n",
                "JOIN Users u ON u.user_ID = s.user_ID\r\n",
                "WHERE u.name LIKE '1' OR u.email LIKE 'com'  OR phone LIKE '0909090909'"
            ],
            "metadata": {
                "azdata_cell_guid": "d49525b4-6601-4c62-b81b-8ec097353d7b"
            },
            "outputs": [
                {
                    "output_type": "display_data",
                    "data": {
                        "text/html": "(1 row affected)"
                    },
                    "metadata": {}
                },
                {
                    "output_type": "display_data",
                    "data": {
                        "text/html": "Total execution time: 00:00:00.001"
                    },
                    "metadata": {}
                },
                {
                    "output_type": "execute_result",
                    "metadata": {},
                    "execution_count": 19,
                    "data": {
                        "application/vnd.dataresource+json": {
                            "schema": {
                                "fields": [
                                    {
                                        "name": "support_ID"
                                    },
                                    {
                                        "name": "user_ID"
                                    },
                                    {
                                        "name": "details"
                                    },
                                    {
                                        "name": "admin_ID"
                                    },
                                    {
                                        "name": "dates"
                                    },
                                    {
                                        "name": "username"
                                    },
                                    {
                                        "name": "password"
                                    },
                                    {
                                        "name": "email"
                                    },
                                    {
                                        "name": "name"
                                    },
                                    {
                                        "name": "phone"
                                    }
                                ]
                            },
                            "data": [
                                {
                                    "0": "1",
                                    "1": "1",
                                    "2": "GOOD SERVICE",
                                    "3": "1",
                                    "4": "2022-03-05",
                                    "5": "user",
                                    "6": "2",
                                    "7": "user1@gmail.com",
                                    "8": "user 1",
                                    "9": "0909090909"
                                }
                            ]
                        },
                        "text/html": [
                            "<table>",
                            "<tr><th>support_ID</th><th>user_ID</th><th>details</th><th>admin_ID</th><th>dates</th><th>username</th><th>password</th><th>email</th><th>name</th><th>phone</th></tr>",
                            "<tr><td>1</td><td>1</td><td>GOOD SERVICE</td><td>1</td><td>2022-03-05</td><td>user</td><td>2</td><td>user1@gmail.com</td><td>user 1</td><td>0909090909</td></tr>",
                            "</table>"
                        ]
                    }
                }
            ],
            "execution_count": 19
        }
    ]
}